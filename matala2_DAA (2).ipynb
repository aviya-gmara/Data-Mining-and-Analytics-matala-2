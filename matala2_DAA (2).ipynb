{
 "cells":[
  {
   "cell_type":"code",
   "source":[
    "import pandas as pd\n",
    "import numpy as np"
   ],
   "execution_count":1,
   "outputs":[
    
   ],
   "metadata":{
    "datalore":{
     "node_id":"909NpamDCMvv4WDEBjzQGr",
     "type":"CODE",
     "hide_input_from_viewers":false,
     "hide_output_from_viewers":false,
     "report_properties":{
      "rowId":"g7QWNVvYrHXJDVZ70ZUOD7",
      "relativeY":0
     }
    }
   }
  },
  {
   "cell_type":"code",
   "source":[
    "# Read the csv file\n",
    "\n",
    "data1 = pd.read_csv('\/data\/notebook_files\/matala2_cosmetics_2019-Nov.csv')\n",
    "\n",
    "# # Print it out if you want\n",
    "data1"
   ],
   "execution_count":2,
   "outputs":[
    {
     "name":"stderr",
     "text":[
      "\/opt\/python\/envs\/default\/lib\/python3.8\/site-packages\/IPython\/core\/interactiveshell.py:3457: DtypeWarning: Columns (6) have mixed types.Specify dtype option on import or set low_memory=False.\n",
      "  exec(code_obj, self.user_global_ns, self.user_ns)\n"
     ],
     "output_type":"stream"
    },
    {
     "data":{
      "text\/html":[
       "<div>\n",
       "<style scoped>\n",
       "    .dataframe tbody tr th:only-of-type {\n",
       "        vertical-align: middle;\n",
       "    }\n",
       "\n",
       "    .dataframe tbody tr th {\n",
       "        vertical-align: top;\n",
       "    }\n",
       "\n",
       "    .dataframe thead th {\n",
       "        text-align: right;\n",
       "    }\n",
       "<\/style>\n",
       "<table border=\"1\" class=\"dataframe\">\n",
       "  <thead>\n",
       "    <tr style=\"text-align: right;\">\n",
       "      <th><\/th>\n",
       "      <th>event_time<\/th>\n",
       "      <th>event_type<\/th>\n",
       "      <th>product_id<\/th>\n",
       "      <th>category_id<\/th>\n",
       "      <th>category_code<\/th>\n",
       "      <th>brand<\/th>\n",
       "      <th>price<\/th>\n",
       "      <th>user_id<\/th>\n",
       "      <th>user_session<\/th>\n",
       "    <\/tr>\n",
       "  <\/thead>\n",
       "  <tbody>\n",
       "    <tr>\n",
       "      <th>0<\/th>\n",
       "      <td>2019-11-01 00:00:02<\/td>\n",
       "      <td>view<\/td>\n",
       "      <td>5802432<\/td>\n",
       "      <td>1487580009286590000<\/td>\n",
       "      <td>NaN<\/td>\n",
       "      <td>NaN<\/td>\n",
       "      <td>0.32<\/td>\n",
       "      <td>562076640<\/td>\n",
       "      <td>09fafd6c-6c99-46b1-834f-33527f4de241<\/td>\n",
       "    <\/tr>\n",
       "    <tr>\n",
       "      <th>1<\/th>\n",
       "      <td>2019-11-01 00:00:09<\/td>\n",
       "      <td>cart<\/td>\n",
       "      <td>5844397<\/td>\n",
       "      <td>1487580006317030000<\/td>\n",
       "      <td>NaN<\/td>\n",
       "      <td>NaN<\/td>\n",
       "      <td>2.38 sale<\/td>\n",
       "      <td>553329724<\/td>\n",
       "      <td>2067216c-31b5-455d-a1cc-af0575a34ffb<\/td>\n",
       "    <\/tr>\n",
       "    <tr>\n",
       "      <th>2<\/th>\n",
       "      <td>2019-11-01 00:00:10<\/td>\n",
       "      <td>view<\/td>\n",
       "      <td>5837166<\/td>\n",
       "      <td>1783999064103190000<\/td>\n",
       "      <td>NaN<\/td>\n",
       "      <td>pnb<\/td>\n",
       "      <td>22.22<\/td>\n",
       "      <td>556138645<\/td>\n",
       "      <td>57ed222e-a54a-4907-9944-5a875c2d7f4f<\/td>\n",
       "    <\/tr>\n",
       "    <tr>\n",
       "      <th>3<\/th>\n",
       "      <td>2019-11-01 00:00:11<\/td>\n",
       "      <td>cart<\/td>\n",
       "      <td>5876812<\/td>\n",
       "      <td>1487580010100290000<\/td>\n",
       "      <td>NaN<\/td>\n",
       "      <td>jessnail<\/td>\n",
       "      <td>3.16<\/td>\n",
       "      <td>564506666<\/td>\n",
       "      <td>186c1951-8052-4b37-adce-dd9644b1d5f7<\/td>\n",
       "    <\/tr>\n",
       "    <tr>\n",
       "      <th>4<\/th>\n",
       "      <td>2019-11-01 00:00:24<\/td>\n",
       "      <td>remove_from_cart<\/td>\n",
       "      <td>5826182<\/td>\n",
       "      <td>1487580007483040000<\/td>\n",
       "      <td>NaN<\/td>\n",
       "      <td>NaN<\/td>\n",
       "      <td>3.33<\/td>\n",
       "      <td>553329724<\/td>\n",
       "      <td>2067216c-31b5-455d-a1cc-af0575a34ffb<\/td>\n",
       "    <\/tr>\n",
       "    <tr>\n",
       "      <th>...<\/th>\n",
       "      <td>...<\/td>\n",
       "      <td>...<\/td>\n",
       "      <td>...<\/td>\n",
       "      <td>...<\/td>\n",
       "      <td>...<\/td>\n",
       "      <td>...<\/td>\n",
       "      <td>...<\/td>\n",
       "      <td>...<\/td>\n",
       "      <td>...<\/td>\n",
       "    <\/tr>\n",
       "    <tr>\n",
       "      <th>1048570<\/th>\n",
       "      <td>2019-11-08 11:17:27<\/td>\n",
       "      <td>remove_from_cart<\/td>\n",
       "      <td>5888061<\/td>\n",
       "      <td>1487580013086630000<\/td>\n",
       "      <td>NaN<\/td>\n",
       "      <td>shik<\/td>\n",
       "      <td>5.71<\/td>\n",
       "      <td>568919150<\/td>\n",
       "      <td>e2588ec8-e3ac-452f-9d14-c679879c6679<\/td>\n",
       "    <\/tr>\n",
       "    <tr>\n",
       "      <th>1048571<\/th>\n",
       "      <td>2019-11-08 11:17:27<\/td>\n",
       "      <td>view<\/td>\n",
       "      <td>5843812<\/td>\n",
       "      <td>1487580011534740000<\/td>\n",
       "      <td>NaN<\/td>\n",
       "      <td>NaN<\/td>\n",
       "      <td>2.78<\/td>\n",
       "      <td>410153810<\/td>\n",
       "      <td>b9c05605-bdfc-47a1-8742-120c989b99e6<\/td>\n",
       "    <\/tr>\n",
       "    <tr>\n",
       "      <th>1048572<\/th>\n",
       "      <td>2019-11-08 11:17:27<\/td>\n",
       "      <td>cart<\/td>\n",
       "      <td>5875273<\/td>\n",
       "      <td>1487580005553660000<\/td>\n",
       "      <td>NaN<\/td>\n",
       "      <td>NaN<\/td>\n",
       "      <td>7.46<\/td>\n",
       "      <td>402986169<\/td>\n",
       "      <td>dd9d10cd-9993-9ca3-5828-afb8abec851d<\/td>\n",
       "    <\/tr>\n",
       "    <tr>\n",
       "      <th>1048573<\/th>\n",
       "      <td>2019-11-08 11:17:28<\/td>\n",
       "      <td>view<\/td>\n",
       "      <td>5854812<\/td>\n",
       "      <td>1602943681873050000<\/td>\n",
       "      <td>NaN<\/td>\n",
       "      <td>grattol<\/td>\n",
       "      <td>5.24<\/td>\n",
       "      <td>568926108<\/td>\n",
       "      <td>6b3c6855-efea-4c02-9da6-e7c5a988628a<\/td>\n",
       "    <\/tr>\n",
       "    <tr>\n",
       "      <th>1048574<\/th>\n",
       "      <td>2019-11-08 11:17:28<\/td>\n",
       "      <td>remove_from_cart<\/td>\n",
       "      <td>5747148<\/td>\n",
       "      <td>1487580005595610000<\/td>\n",
       "      <td>NaN<\/td>\n",
       "      <td>NaN<\/td>\n",
       "      <td>3.33<\/td>\n",
       "      <td>515443495<\/td>\n",
       "      <td>ba4978ed-db1d-42b0-b836-c3652421fd57<\/td>\n",
       "    <\/tr>\n",
       "  <\/tbody>\n",
       "<\/table>\n",
       "<p>1048575 rows × 9 columns<\/p>\n",
       "<\/div>"
      ]
     },
     "metadata":{
      
     },
     "output_type":"display_data"
    }
   ],
   "metadata":{
    "datalore":{
     "node_id":"8JFwhrHAprNSCKjvBYUDPa",
     "type":"CODE",
     "hide_input_from_viewers":false,
     "hide_output_from_viewers":false,
     "report_properties":{
      "rowId":"d9Nbv76L3IxEcGzWKiTiOG",
      "relativeY":0
     }
    }
   }
  },
  {
   "cell_type":"code",
   "source":[
    "data_copy=data1.copy()"
   ],
   "execution_count":3,
   "outputs":[
    
   ],
   "metadata":{
    "datalore":{
     "node_id":"CKKvT5YFXekGU8PmKFlSPe",
     "type":"CODE",
     "hide_input_from_viewers":false,
     "hide_output_from_viewers":false,
     "report_properties":{
      "rowId":"MaIUcMToLGVv60q6QxTPQo",
      "relativeY":0
     }
    }
   }
  },
  {
   "cell_type":"code",
   "source":[
    "data_copy.info()"
   ],
   "execution_count":4,
   "outputs":[
    {
     "name":"stdout",
     "text":[
      "<class 'pandas.core.frame.DataFrame'>\n",
      "RangeIndex: 1048575 entries, 0 to 1048574\n",
      "Data columns (total 9 columns):\n",
      " #   Column         Non-Null Count    Dtype \n",
      "---  ------         --------------    ----- \n",
      " 0   event_time     1048575 non-null  object\n",
      " 1   event_type     1048575 non-null  object\n",
      " 2   product_id     1048575 non-null  int64 \n",
      " 3   category_id    1048575 non-null  int64 \n",
      " 4   category_code  16715 non-null    object\n",
      " 5   brand          602451 non-null   object\n",
      " 6   price          1048575 non-null  object\n",
      " 7   user_id        1048575 non-null  int64 \n",
      " 8   user_session   1048357 non-null  object\n",
      "dtypes: int64(3), object(6)\n",
      "memory usage: 72.0+ MB\n"
     ],
     "output_type":"stream"
    }
   ],
   "metadata":{
    "datalore":{
     "node_id":"ugcDhQYv2rNppoPcgG44iA",
     "type":"CODE",
     "hide_input_from_viewers":true,
     "hide_output_from_viewers":true
    }
   }
  },
  {
   "cell_type":"markdown",
   "source":[
    "The price column is an object and not a float."
   ],
   "attachments":{
    
   },
   "metadata":{
    "datalore":{
     "node_id":"3bO9HWNKMq43wGj4b5jHS8",
     "type":"MD",
     "hide_input_from_viewers":true,
     "hide_output_from_viewers":true
    }
   }
  },
  {
   "cell_type":"code",
   "source":[
    "data_copy.shape"
   ],
   "execution_count":5,
   "outputs":[
    {
     "data":{
      "text\/plain":[
       "(1048575, 9)"
      ]
     },
     "metadata":{
      
     },
     "output_type":"display_data"
    }
   ],
   "metadata":{
    "datalore":{
     "node_id":"1lxyYIeEH2Jfn19I7ZCTfD",
     "type":"CODE",
     "hide_input_from_viewers":true,
     "hide_output_from_viewers":true
    }
   }
  },
  {
   "cell_type":"markdown",
   "source":[
    "## From a preliminary review it seems that is a High volume of sessions. We will have to pay attention to running times in column manipulations"
   ],
   "attachments":{
    
   },
   "metadata":{
    "datalore":{
     "node_id":"DVcSpr3II5WWeY0KSwVizG",
     "type":"MD",
     "hide_input_from_viewers":true,
     "hide_output_from_viewers":true
    }
   }
  },
  {
   "cell_type":"markdown",
   "source":[
    "**I left the line of code to show the way of working I used when writing the code so as not to needlessly run all the data**"
   ],
   "attachments":{
    
   },
   "metadata":{
    "datalore":{
     "node_id":"Lvh3yNMtRh67sGgLzTgSgc",
     "type":"MD",
     "hide_input_from_viewers":true,
     "hide_output_from_viewers":true
    }
   }
  },
  {
   "cell_type":"code",
   "source":[
    "# data = data1.iloc[0:2000,:]"
   ],
   "execution_count":6,
   "outputs":[
    
   ],
   "metadata":{
    "datalore":{
     "node_id":"PRSAv1shWVbOx5wdqXtvPH",
     "type":"CODE",
     "hide_input_from_viewers":false,
     "hide_output_from_viewers":false,
     "report_properties":{
      "rowId":"DzGPgicSEJFWalFra49OFP",
      "relativeY":0
     }
    }
   }
  },
  {
   "cell_type":"markdown",
   "source":[
    "## After each section I will present the data to examine the change.\n",
    "### I will give a preliminary general explanation to some of the sections. For some sections I will add comments next to the lines of code to clarify the explanation for specific lines of code"
   ],
   "attachments":{
    
   },
   "metadata":{
    "datalore":{
     "node_id":"4bI8f8aiZjzUypqhLobl0m",
     "type":"MD",
     "hide_input_from_viewers":true,
     "hide_output_from_viewers":true
    }
   }
  },
  {
   "cell_type":"markdown",
   "source":[
    "# **1**"
   ],
   "attachments":{
    
   },
   "metadata":{
    "datalore":{
     "node_id":"wbM7DEEVCQfCg0k9oxRA64",
     "type":"MD",
     "hide_input_from_viewers":false,
     "hide_output_from_viewers":false,
     "report_properties":{
      "rowId":"T6avWQFedQNOzemt1nmdTe",
      "relativeY":0
     }
    }
   }
  },
  {
   "cell_type":"code",
   "source":[
    "\n",
    "# Convert 'event_time' column to datetime format\n",
    "data_copy['event_time'] = pd.to_datetime(data_copy['event_time'])\n",
    "\n",
    "# Sort the data by 'user_session' and 'event_time'\n",
    "data_copy.sort_values([\"user_id\",'user_session', 'event_time'], inplace=True)\n",
    "\n",
    "# Create a new column 'next_event_time' with the event_time of the next event in the same session\n",
    "data_copy['next_event_time'] = data_copy.groupby('user_session')['event_time'].shift(-1)\n",
    "\n",
    "# Calculate the duration between the current event and the next event in the same session\n",
    "data_copy['duration_to_next_event'] = (data_copy['next_event_time'] - data_copy['event_time']).dt.total_seconds()\n",
    "\n",
    "# Replace the NaN values in 'duration_to_next_event' with 0 for the last event in each session\n",
    "data_copy['duration_to_next_event'].fillna(0, inplace=True)\n",
    "\n",
    "# Drop the 'next_event_time' column\n",
    "data_copy.drop('next_event_time', axis=1, inplace=True)"
   ],
   "execution_count":7,
   "outputs":[
    
   ],
   "metadata":{
    "datalore":{
     "node_id":"mMireNefjg0OWTtlWaD0ci",
     "type":"CODE",
     "hide_input_from_viewers":false,
     "hide_output_from_viewers":false,
     "report_properties":{
      "rowId":"0l7zwcgaQ1M8zzVCd6fbLm",
      "relativeY":0
     }
    }
   }
  },
  {
   "cell_type":"code",
   "source":[
    "\n",
    "data_copy"
   ],
   "execution_count":8,
   "outputs":[
    {
     "data":{
      "text\/html":[
       "<div>\n",
       "<style scoped>\n",
       "    .dataframe tbody tr th:only-of-type {\n",
       "        vertical-align: middle;\n",
       "    }\n",
       "\n",
       "    .dataframe tbody tr th {\n",
       "        vertical-align: top;\n",
       "    }\n",
       "\n",
       "    .dataframe thead th {\n",
       "        text-align: right;\n",
       "    }\n",
       "<\/style>\n",
       "<table border=\"1\" class=\"dataframe\">\n",
       "  <thead>\n",
       "    <tr style=\"text-align: right;\">\n",
       "      <th><\/th>\n",
       "      <th>event_time<\/th>\n",
       "      <th>event_type<\/th>\n",
       "      <th>product_id<\/th>\n",
       "      <th>category_id<\/th>\n",
       "      <th>category_code<\/th>\n",
       "      <th>brand<\/th>\n",
       "      <th>price<\/th>\n",
       "      <th>user_id<\/th>\n",
       "      <th>user_session<\/th>\n",
       "      <th>duration_to_next_event<\/th>\n",
       "    <\/tr>\n",
       "  <\/thead>\n",
       "  <tbody>\n",
       "    <tr>\n",
       "      <th>437209<\/th>\n",
       "      <td>2019-11-04 15:28:57<\/td>\n",
       "      <td>view<\/td>\n",
       "      <td>5240<\/td>\n",
       "      <td>1487580009202710000<\/td>\n",
       "      <td>NaN<\/td>\n",
       "      <td>runail<\/td>\n",
       "      <td>4.05<\/td>\n",
       "      <td>1120748<\/td>\n",
       "      <td>d0484d94-7ac1-44e8-a310-2360da11ad9d<\/td>\n",
       "      <td>0.0<\/td>\n",
       "    <\/tr>\n",
       "    <tr>\n",
       "      <th>697519<\/th>\n",
       "      <td>2019-11-06 10:40:34<\/td>\n",
       "      <td>cart<\/td>\n",
       "      <td>5614842<\/td>\n",
       "      <td>1487580005411060000<\/td>\n",
       "      <td>NaN<\/td>\n",
       "      <td>cnd<\/td>\n",
       "      <td>13.56<\/td>\n",
       "      <td>10079204<\/td>\n",
       "      <td>f873d16b-4efa-4e92-81be-92948aef2ff5<\/td>\n",
       "      <td>52.0<\/td>\n",
       "    <\/tr>\n",
       "    <tr>\n",
       "      <th>697645<\/th>\n",
       "      <td>2019-11-06 10:41:26<\/td>\n",
       "      <td>cart<\/td>\n",
       "      <td>5766379<\/td>\n",
       "      <td>1783999067156640000<\/td>\n",
       "      <td>NaN<\/td>\n",
       "      <td>kaaral<\/td>\n",
       "      <td>12.25<\/td>\n",
       "      <td>10079204<\/td>\n",
       "      <td>f873d16b-4efa-4e92-81be-92948aef2ff5<\/td>\n",
       "      <td>124.0<\/td>\n",
       "    <\/tr>\n",
       "    <tr>\n",
       "      <th>698043<\/th>\n",
       "      <td>2019-11-06 10:43:30<\/td>\n",
       "      <td>purchase<\/td>\n",
       "      <td>5766379<\/td>\n",
       "      <td>1783999067156640000<\/td>\n",
       "      <td>NaN<\/td>\n",
       "      <td>kaaral<\/td>\n",
       "      <td>12.25<\/td>\n",
       "      <td>10079204<\/td>\n",
       "      <td>f873d16b-4efa-4e92-81be-92948aef2ff5<\/td>\n",
       "      <td>0.0<\/td>\n",
       "    <\/tr>\n",
       "    <tr>\n",
       "      <th>698045<\/th>\n",
       "      <td>2019-11-06 10:43:30<\/td>\n",
       "      <td>purchase<\/td>\n",
       "      <td>5614842<\/td>\n",
       "      <td>1487580005411060000<\/td>\n",
       "      <td>NaN<\/td>\n",
       "      <td>cnd<\/td>\n",
       "      <td>13.56<\/td>\n",
       "      <td>10079204<\/td>\n",
       "      <td>f873d16b-4efa-4e92-81be-92948aef2ff5<\/td>\n",
       "      <td>0.0<\/td>\n",
       "    <\/tr>\n",
       "    <tr>\n",
       "      <th>...<\/th>\n",
       "      <td>...<\/td>\n",
       "      <td>...<\/td>\n",
       "      <td>...<\/td>\n",
       "      <td>...<\/td>\n",
       "      <td>...<\/td>\n",
       "      <td>...<\/td>\n",
       "      <td>...<\/td>\n",
       "      <td>...<\/td>\n",
       "      <td>...<\/td>\n",
       "      <td>...<\/td>\n",
       "    <\/tr>\n",
       "    <tr>\n",
       "      <th>1048392<\/th>\n",
       "      <td>2019-11-08 11:16:28<\/td>\n",
       "      <td>view<\/td>\n",
       "      <td>5861591<\/td>\n",
       "      <td>1487580009143990000<\/td>\n",
       "      <td>NaN<\/td>\n",
       "      <td>lador<\/td>\n",
       "      <td>2.22<\/td>\n",
       "      <td>568926337<\/td>\n",
       "      <td>1325e7ce-c706-4253-99ad-1eaf9cfe70ee<\/td>\n",
       "      <td>0.0<\/td>\n",
       "    <\/tr>\n",
       "    <tr>\n",
       "      <th>1048385<\/th>\n",
       "      <td>2019-11-08 11:16:23<\/td>\n",
       "      <td>view<\/td>\n",
       "      <td>5799891<\/td>\n",
       "      <td>1487580009051710000<\/td>\n",
       "      <td>NaN<\/td>\n",
       "      <td>NaN<\/td>\n",
       "      <td>19.03<\/td>\n",
       "      <td>568926338<\/td>\n",
       "      <td>09994a71-7ac0-415a-9f49-d8df982ac9dd<\/td>\n",
       "      <td>0.0<\/td>\n",
       "    <\/tr>\n",
       "    <tr>\n",
       "      <th>1048471<\/th>\n",
       "      <td>2019-11-08 11:16:55<\/td>\n",
       "      <td>view<\/td>\n",
       "      <td>5881598<\/td>\n",
       "      <td>2151191071051210000<\/td>\n",
       "      <td>NaN<\/td>\n",
       "      <td>lovely<\/td>\n",
       "      <td>12.56<\/td>\n",
       "      <td>568926409<\/td>\n",
       "      <td>0e45dae2-2e7a-4919-9ec2-cbecd4354a02<\/td>\n",
       "      <td>0.0<\/td>\n",
       "    <\/tr>\n",
       "    <tr>\n",
       "      <th>1048462<\/th>\n",
       "      <td>2019-11-08 11:16:53<\/td>\n",
       "      <td>view<\/td>\n",
       "      <td>5876382<\/td>\n",
       "      <td>1487580008246410000<\/td>\n",
       "      <td>NaN<\/td>\n",
       "      <td>NaN<\/td>\n",
       "      <td>23.81<\/td>\n",
       "      <td>568926576<\/td>\n",
       "      <td>de462037-13f3-4217-9b8e-408e1ba014d9<\/td>\n",
       "      <td>0.0<\/td>\n",
       "    <\/tr>\n",
       "    <tr>\n",
       "      <th>1048552<\/th>\n",
       "      <td>2019-11-08 11:17:21<\/td>\n",
       "      <td>view<\/td>\n",
       "      <td>5752939<\/td>\n",
       "      <td>1487580013069860000<\/td>\n",
       "      <td>NaN<\/td>\n",
       "      <td>italwax<\/td>\n",
       "      <td>19.84<\/td>\n",
       "      <td>568926759<\/td>\n",
       "      <td>b1298c52-9c29-433a-af8b-4f4136aaa5bb<\/td>\n",
       "      <td>0.0<\/td>\n",
       "    <\/tr>\n",
       "  <\/tbody>\n",
       "<\/table>\n",
       "<p>1048575 rows × 10 columns<\/p>\n",
       "<\/div>"
      ]
     },
     "metadata":{
      
     },
     "output_type":"display_data"
    }
   ],
   "metadata":{
    "datalore":{
     "node_id":"RgF4ZwL07ZjoV2akXPrtxi",
     "type":"CODE",
     "hide_input_from_viewers":false,
     "hide_output_from_viewers":false,
     "report_properties":{
      "rowId":"yvc70yXwrxfkcRCszUoOJY",
      "relativeY":0
     }
    }
   }
  },
  {
   "cell_type":"markdown",
   "source":[
    "# **2**"
   ],
   "attachments":{
    
   },
   "metadata":{
    "datalore":{
     "node_id":"XAabBXgmdEhNkcA8TdOEmJ",
     "type":"MD",
     "hide_input_from_viewers":false,
     "hide_output_from_viewers":false,
     "report_properties":{
      "rowId":"QutViq9x8XrdDHixV6RYlY",
      "relativeY":0
     }
    }
   }
  },
  {
   "cell_type":"markdown",
   "source":[
    "## We will create two columns that will help us to create an index for each funnel by extract from them the time (5) between sessions"
   ],
   "attachments":{
    
   },
   "metadata":{
    "datalore":{
     "node_id":"dpn1hOGvlGsH6NlGTL9m6O",
     "type":"MD",
     "hide_input_from_viewers":true,
     "hide_output_from_viewers":true
    }
   }
  },
  {
   "cell_type":"code",
   "source":[
    "\n",
    "data_copy['event_time']= pd.to_datetime(data_copy['event_time'])\n",
    "\n",
    "# Add a column with the cumulative sum of days since the last visit for each user\n",
    "data_copy['days_since_last_visit'] = data_copy.groupby('user_id')['event_time'].diff().dt.days\n",
    "\n",
    "data_copy['new_funnel'] = (data_copy['days_since_last_visit'] > 5) | (data_copy['days_since_last_visit'].isnull())\n",
    "\n",
    "# Add a column with the funnel number for each user\n",
    "data_copy['funnel_number'] = data_copy.groupby('user_id')['new_funnel'].cumsum()"
   ],
   "execution_count":9,
   "outputs":[
    
   ],
   "metadata":{
    "datalore":{
     "node_id":"Bh6emQ4ewXx5gltIujiMR2",
     "type":"CODE",
     "hide_input_from_viewers":false,
     "hide_output_from_viewers":false,
     "report_properties":{
      "rowId":"H8sTcxGJmPS4WMUnUMq5vH",
      "relativeY":0
     }
    }
   }
  },
  {
   "cell_type":"code",
   "source":[
    "data_copy"
   ],
   "execution_count":10,
   "outputs":[
    {
     "data":{
      "text\/html":[
       "<div>\n",
       "<style scoped>\n",
       "    .dataframe tbody tr th:only-of-type {\n",
       "        vertical-align: middle;\n",
       "    }\n",
       "\n",
       "    .dataframe tbody tr th {\n",
       "        vertical-align: top;\n",
       "    }\n",
       "\n",
       "    .dataframe thead th {\n",
       "        text-align: right;\n",
       "    }\n",
       "<\/style>\n",
       "<table border=\"1\" class=\"dataframe\">\n",
       "  <thead>\n",
       "    <tr style=\"text-align: right;\">\n",
       "      <th><\/th>\n",
       "      <th>event_time<\/th>\n",
       "      <th>event_type<\/th>\n",
       "      <th>product_id<\/th>\n",
       "      <th>category_id<\/th>\n",
       "      <th>category_code<\/th>\n",
       "      <th>brand<\/th>\n",
       "      <th>price<\/th>\n",
       "      <th>user_id<\/th>\n",
       "      <th>user_session<\/th>\n",
       "      <th>duration_to_next_event<\/th>\n",
       "      <th>days_since_last_visit<\/th>\n",
       "      <th>new_funnel<\/th>\n",
       "      <th>funnel_number<\/th>\n",
       "    <\/tr>\n",
       "  <\/thead>\n",
       "  <tbody>\n",
       "    <tr>\n",
       "      <th>437209<\/th>\n",
       "      <td>2019-11-04 15:28:57<\/td>\n",
       "      <td>view<\/td>\n",
       "      <td>5240<\/td>\n",
       "      <td>1487580009202710000<\/td>\n",
       "      <td>NaN<\/td>\n",
       "      <td>runail<\/td>\n",
       "      <td>4.05<\/td>\n",
       "      <td>1120748<\/td>\n",
       "      <td>d0484d94-7ac1-44e8-a310-2360da11ad9d<\/td>\n",
       "      <td>0.0<\/td>\n",
       "      <td>NaN<\/td>\n",
       "      <td>True<\/td>\n",
       "      <td>1<\/td>\n",
       "    <\/tr>\n",
       "    <tr>\n",
       "      <th>697519<\/th>\n",
       "      <td>2019-11-06 10:40:34<\/td>\n",
       "      <td>cart<\/td>\n",
       "      <td>5614842<\/td>\n",
       "      <td>1487580005411060000<\/td>\n",
       "      <td>NaN<\/td>\n",
       "      <td>cnd<\/td>\n",
       "      <td>13.56<\/td>\n",
       "      <td>10079204<\/td>\n",
       "      <td>f873d16b-4efa-4e92-81be-92948aef2ff5<\/td>\n",
       "      <td>52.0<\/td>\n",
       "      <td>NaN<\/td>\n",
       "      <td>True<\/td>\n",
       "      <td>1<\/td>\n",
       "    <\/tr>\n",
       "    <tr>\n",
       "      <th>697645<\/th>\n",
       "      <td>2019-11-06 10:41:26<\/td>\n",
       "      <td>cart<\/td>\n",
       "      <td>5766379<\/td>\n",
       "      <td>1783999067156640000<\/td>\n",
       "      <td>NaN<\/td>\n",
       "      <td>kaaral<\/td>\n",
       "      <td>12.25<\/td>\n",
       "      <td>10079204<\/td>\n",
       "      <td>f873d16b-4efa-4e92-81be-92948aef2ff5<\/td>\n",
       "      <td>124.0<\/td>\n",
       "      <td>0.0<\/td>\n",
       "      <td>False<\/td>\n",
       "      <td>1<\/td>\n",
       "    <\/tr>\n",
       "    <tr>\n",
       "      <th>698043<\/th>\n",
       "      <td>2019-11-06 10:43:30<\/td>\n",
       "      <td>purchase<\/td>\n",
       "      <td>5766379<\/td>\n",
       "      <td>1783999067156640000<\/td>\n",
       "      <td>NaN<\/td>\n",
       "      <td>kaaral<\/td>\n",
       "      <td>12.25<\/td>\n",
       "      <td>10079204<\/td>\n",
       "      <td>f873d16b-4efa-4e92-81be-92948aef2ff5<\/td>\n",
       "      <td>0.0<\/td>\n",
       "      <td>0.0<\/td>\n",
       "      <td>False<\/td>\n",
       "      <td>1<\/td>\n",
       "    <\/tr>\n",
       "    <tr>\n",
       "      <th>698045<\/th>\n",
       "      <td>2019-11-06 10:43:30<\/td>\n",
       "      <td>purchase<\/td>\n",
       "      <td>5614842<\/td>\n",
       "      <td>1487580005411060000<\/td>\n",
       "      <td>NaN<\/td>\n",
       "      <td>cnd<\/td>\n",
       "      <td>13.56<\/td>\n",
       "      <td>10079204<\/td>\n",
       "      <td>f873d16b-4efa-4e92-81be-92948aef2ff5<\/td>\n",
       "      <td>0.0<\/td>\n",
       "      <td>0.0<\/td>\n",
       "      <td>False<\/td>\n",
       "      <td>1<\/td>\n",
       "    <\/tr>\n",
       "    <tr>\n",
       "      <th>...<\/th>\n",
       "      <td>...<\/td>\n",
       "      <td>...<\/td>\n",
       "      <td>...<\/td>\n",
       "      <td>...<\/td>\n",
       "      <td>...<\/td>\n",
       "      <td>...<\/td>\n",
       "      <td>...<\/td>\n",
       "      <td>...<\/td>\n",
       "      <td>...<\/td>\n",
       "      <td>...<\/td>\n",
       "      <td>...<\/td>\n",
       "      <td>...<\/td>\n",
       "      <td>...<\/td>\n",
       "    <\/tr>\n",
       "    <tr>\n",
       "      <th>1048392<\/th>\n",
       "      <td>2019-11-08 11:16:28<\/td>\n",
       "      <td>view<\/td>\n",
       "      <td>5861591<\/td>\n",
       "      <td>1487580009143990000<\/td>\n",
       "      <td>NaN<\/td>\n",
       "      <td>lador<\/td>\n",
       "      <td>2.22<\/td>\n",
       "      <td>568926337<\/td>\n",
       "      <td>1325e7ce-c706-4253-99ad-1eaf9cfe70ee<\/td>\n",
       "      <td>0.0<\/td>\n",
       "      <td>NaN<\/td>\n",
       "      <td>True<\/td>\n",
       "      <td>1<\/td>\n",
       "    <\/tr>\n",
       "    <tr>\n",
       "      <th>1048385<\/th>\n",
       "      <td>2019-11-08 11:16:23<\/td>\n",
       "      <td>view<\/td>\n",
       "      <td>5799891<\/td>\n",
       "      <td>1487580009051710000<\/td>\n",
       "      <td>NaN<\/td>\n",
       "      <td>NaN<\/td>\n",
       "      <td>19.03<\/td>\n",
       "      <td>568926338<\/td>\n",
       "      <td>09994a71-7ac0-415a-9f49-d8df982ac9dd<\/td>\n",
       "      <td>0.0<\/td>\n",
       "      <td>NaN<\/td>\n",
       "      <td>True<\/td>\n",
       "      <td>1<\/td>\n",
       "    <\/tr>\n",
       "    <tr>\n",
       "      <th>1048471<\/th>\n",
       "      <td>2019-11-08 11:16:55<\/td>\n",
       "      <td>view<\/td>\n",
       "      <td>5881598<\/td>\n",
       "      <td>2151191071051210000<\/td>\n",
       "      <td>NaN<\/td>\n",
       "      <td>lovely<\/td>\n",
       "      <td>12.56<\/td>\n",
       "      <td>568926409<\/td>\n",
       "      <td>0e45dae2-2e7a-4919-9ec2-cbecd4354a02<\/td>\n",
       "      <td>0.0<\/td>\n",
       "      <td>NaN<\/td>\n",
       "      <td>True<\/td>\n",
       "      <td>1<\/td>\n",
       "    <\/tr>\n",
       "    <tr>\n",
       "      <th>1048462<\/th>\n",
       "      <td>2019-11-08 11:16:53<\/td>\n",
       "      <td>view<\/td>\n",
       "      <td>5876382<\/td>\n",
       "      <td>1487580008246410000<\/td>\n",
       "      <td>NaN<\/td>\n",
       "      <td>NaN<\/td>\n",
       "      <td>23.81<\/td>\n",
       "      <td>568926576<\/td>\n",
       "      <td>de462037-13f3-4217-9b8e-408e1ba014d9<\/td>\n",
       "      <td>0.0<\/td>\n",
       "      <td>NaN<\/td>\n",
       "      <td>True<\/td>\n",
       "      <td>1<\/td>\n",
       "    <\/tr>\n",
       "    <tr>\n",
       "      <th>1048552<\/th>\n",
       "      <td>2019-11-08 11:17:21<\/td>\n",
       "      <td>view<\/td>\n",
       "      <td>5752939<\/td>\n",
       "      <td>1487580013069860000<\/td>\n",
       "      <td>NaN<\/td>\n",
       "      <td>italwax<\/td>\n",
       "      <td>19.84<\/td>\n",
       "      <td>568926759<\/td>\n",
       "      <td>b1298c52-9c29-433a-af8b-4f4136aaa5bb<\/td>\n",
       "      <td>0.0<\/td>\n",
       "      <td>NaN<\/td>\n",
       "      <td>True<\/td>\n",
       "      <td>1<\/td>\n",
       "    <\/tr>\n",
       "  <\/tbody>\n",
       "<\/table>\n",
       "<p>1048575 rows × 13 columns<\/p>\n",
       "<\/div>"
      ]
     },
     "metadata":{
      
     },
     "output_type":"display_data"
    }
   ],
   "metadata":{
    "datalore":{
     "node_id":"EGOgCvXQTzY3aDXECRccIx",
     "type":"CODE",
     "hide_input_from_viewers":false,
     "hide_output_from_viewers":false,
     "report_properties":{
      "rowId":"EMhinQv888IZeoFvfsthX2",
      "relativeY":0
     }
    }
   }
  },
  {
   "cell_type":"markdown",
   "source":[
    "# 3"
   ],
   "attachments":{
    
   },
   "metadata":{
    "datalore":{
     "node_id":"bSz3xPPxLPcfIvQh72zKNX",
     "type":"MD",
     "hide_input_from_viewers":false,
     "hide_output_from_viewers":false,
     "report_properties":{
      "rowId":"e4nkrNcR6fgDpY4d1ui1KH",
      "relativeY":0
     }
    }
   }
  },
  {
   "cell_type":"markdown",
   "source":[
    "**Within each group, the function \"`transform`\" is applied to the \"user_session\" column. The \"transform\" method applies a function to each group and returns a Series with the same shape as the original DataFrame. In this case, the function applied is a lambda function that uses the \"`factorize`\" method to assign a unique integer value to each unique value in the \"user_session\" column. The lambda function then adds 1 to these integer values to shift the index from 0-based to 1-based indexing.**\n",
    "\n",
    "**The resulting integers represent the position of each user_session within its corresponding funnel for each user.**"
   ],
   "attachments":{
    
   },
   "metadata":{
    "datalore":{
     "node_id":"RGswHIyz7Qc7rWx0SvvAbH",
     "type":"MD",
     "hide_input_from_viewers":true,
     "hide_output_from_viewers":true
    }
   }
  },
  {
   "cell_type":"code",
   "source":[
    "data_copy['index_in_funnel'] = data_copy.groupby(['user_id', 'funnel_number'])['user_session'].transform(lambda x: x.factorize()[0] + 1)"
   ],
   "execution_count":11,
   "outputs":[
    
   ],
   "metadata":{
    "datalore":{
     "node_id":"5BQ9EtZJlxI6GavvOBWNxx",
     "type":"CODE",
     "hide_input_from_viewers":false,
     "hide_output_from_viewers":false,
     "report_properties":{
      "rowId":"8jr2PsXNDtXYvSMZp3hizu",
      "relativeY":0
     }
    }
   }
  },
  {
   "cell_type":"code",
   "source":[
    "data_copy"
   ],
   "execution_count":12,
   "outputs":[
    {
     "data":{
      "text\/html":[
       "<div>\n",
       "<style scoped>\n",
       "    .dataframe tbody tr th:only-of-type {\n",
       "        vertical-align: middle;\n",
       "    }\n",
       "\n",
       "    .dataframe tbody tr th {\n",
       "        vertical-align: top;\n",
       "    }\n",
       "\n",
       "    .dataframe thead th {\n",
       "        text-align: right;\n",
       "    }\n",
       "<\/style>\n",
       "<table border=\"1\" class=\"dataframe\">\n",
       "  <thead>\n",
       "    <tr style=\"text-align: right;\">\n",
       "      <th><\/th>\n",
       "      <th>event_time<\/th>\n",
       "      <th>event_type<\/th>\n",
       "      <th>product_id<\/th>\n",
       "      <th>category_id<\/th>\n",
       "      <th>category_code<\/th>\n",
       "      <th>brand<\/th>\n",
       "      <th>price<\/th>\n",
       "      <th>user_id<\/th>\n",
       "      <th>user_session<\/th>\n",
       "      <th>duration_to_next_event<\/th>\n",
       "      <th>days_since_last_visit<\/th>\n",
       "      <th>new_funnel<\/th>\n",
       "      <th>funnel_number<\/th>\n",
       "      <th>index_in_funnel<\/th>\n",
       "    <\/tr>\n",
       "  <\/thead>\n",
       "  <tbody>\n",
       "    <tr>\n",
       "      <th>437209<\/th>\n",
       "      <td>2019-11-04 15:28:57<\/td>\n",
       "      <td>view<\/td>\n",
       "      <td>5240<\/td>\n",
       "      <td>1487580009202710000<\/td>\n",
       "      <td>NaN<\/td>\n",
       "      <td>runail<\/td>\n",
       "      <td>4.05<\/td>\n",
       "      <td>1120748<\/td>\n",
       "      <td>d0484d94-7ac1-44e8-a310-2360da11ad9d<\/td>\n",
       "      <td>0.0<\/td>\n",
       "      <td>NaN<\/td>\n",
       "      <td>True<\/td>\n",
       "      <td>1<\/td>\n",
       "      <td>1<\/td>\n",
       "    <\/tr>\n",
       "    <tr>\n",
       "      <th>697519<\/th>\n",
       "      <td>2019-11-06 10:40:34<\/td>\n",
       "      <td>cart<\/td>\n",
       "      <td>5614842<\/td>\n",
       "      <td>1487580005411060000<\/td>\n",
       "      <td>NaN<\/td>\n",
       "      <td>cnd<\/td>\n",
       "      <td>13.56<\/td>\n",
       "      <td>10079204<\/td>\n",
       "      <td>f873d16b-4efa-4e92-81be-92948aef2ff5<\/td>\n",
       "      <td>52.0<\/td>\n",
       "      <td>NaN<\/td>\n",
       "      <td>True<\/td>\n",
       "      <td>1<\/td>\n",
       "      <td>1<\/td>\n",
       "    <\/tr>\n",
       "    <tr>\n",
       "      <th>697645<\/th>\n",
       "      <td>2019-11-06 10:41:26<\/td>\n",
       "      <td>cart<\/td>\n",
       "      <td>5766379<\/td>\n",
       "      <td>1783999067156640000<\/td>\n",
       "      <td>NaN<\/td>\n",
       "      <td>kaaral<\/td>\n",
       "      <td>12.25<\/td>\n",
       "      <td>10079204<\/td>\n",
       "      <td>f873d16b-4efa-4e92-81be-92948aef2ff5<\/td>\n",
       "      <td>124.0<\/td>\n",
       "      <td>0.0<\/td>\n",
       "      <td>False<\/td>\n",
       "      <td>1<\/td>\n",
       "      <td>1<\/td>\n",
       "    <\/tr>\n",
       "    <tr>\n",
       "      <th>698043<\/th>\n",
       "      <td>2019-11-06 10:43:30<\/td>\n",
       "      <td>purchase<\/td>\n",
       "      <td>5766379<\/td>\n",
       "      <td>1783999067156640000<\/td>\n",
       "      <td>NaN<\/td>\n",
       "      <td>kaaral<\/td>\n",
       "      <td>12.25<\/td>\n",
       "      <td>10079204<\/td>\n",
       "      <td>f873d16b-4efa-4e92-81be-92948aef2ff5<\/td>\n",
       "      <td>0.0<\/td>\n",
       "      <td>0.0<\/td>\n",
       "      <td>False<\/td>\n",
       "      <td>1<\/td>\n",
       "      <td>1<\/td>\n",
       "    <\/tr>\n",
       "    <tr>\n",
       "      <th>698045<\/th>\n",
       "      <td>2019-11-06 10:43:30<\/td>\n",
       "      <td>purchase<\/td>\n",
       "      <td>5614842<\/td>\n",
       "      <td>1487580005411060000<\/td>\n",
       "      <td>NaN<\/td>\n",
       "      <td>cnd<\/td>\n",
       "      <td>13.56<\/td>\n",
       "      <td>10079204<\/td>\n",
       "      <td>f873d16b-4efa-4e92-81be-92948aef2ff5<\/td>\n",
       "      <td>0.0<\/td>\n",
       "      <td>0.0<\/td>\n",
       "      <td>False<\/td>\n",
       "      <td>1<\/td>\n",
       "      <td>1<\/td>\n",
       "    <\/tr>\n",
       "    <tr>\n",
       "      <th>...<\/th>\n",
       "      <td>...<\/td>\n",
       "      <td>...<\/td>\n",
       "      <td>...<\/td>\n",
       "      <td>...<\/td>\n",
       "      <td>...<\/td>\n",
       "      <td>...<\/td>\n",
       "      <td>...<\/td>\n",
       "      <td>...<\/td>\n",
       "      <td>...<\/td>\n",
       "      <td>...<\/td>\n",
       "      <td>...<\/td>\n",
       "      <td>...<\/td>\n",
       "      <td>...<\/td>\n",
       "      <td>...<\/td>\n",
       "    <\/tr>\n",
       "    <tr>\n",
       "      <th>1048392<\/th>\n",
       "      <td>2019-11-08 11:16:28<\/td>\n",
       "      <td>view<\/td>\n",
       "      <td>5861591<\/td>\n",
       "      <td>1487580009143990000<\/td>\n",
       "      <td>NaN<\/td>\n",
       "      <td>lador<\/td>\n",
       "      <td>2.22<\/td>\n",
       "      <td>568926337<\/td>\n",
       "      <td>1325e7ce-c706-4253-99ad-1eaf9cfe70ee<\/td>\n",
       "      <td>0.0<\/td>\n",
       "      <td>NaN<\/td>\n",
       "      <td>True<\/td>\n",
       "      <td>1<\/td>\n",
       "      <td>1<\/td>\n",
       "    <\/tr>\n",
       "    <tr>\n",
       "      <th>1048385<\/th>\n",
       "      <td>2019-11-08 11:16:23<\/td>\n",
       "      <td>view<\/td>\n",
       "      <td>5799891<\/td>\n",
       "      <td>1487580009051710000<\/td>\n",
       "      <td>NaN<\/td>\n",
       "      <td>NaN<\/td>\n",
       "      <td>19.03<\/td>\n",
       "      <td>568926338<\/td>\n",
       "      <td>09994a71-7ac0-415a-9f49-d8df982ac9dd<\/td>\n",
       "      <td>0.0<\/td>\n",
       "      <td>NaN<\/td>\n",
       "      <td>True<\/td>\n",
       "      <td>1<\/td>\n",
       "      <td>1<\/td>\n",
       "    <\/tr>\n",
       "    <tr>\n",
       "      <th>1048471<\/th>\n",
       "      <td>2019-11-08 11:16:55<\/td>\n",
       "      <td>view<\/td>\n",
       "      <td>5881598<\/td>\n",
       "      <td>2151191071051210000<\/td>\n",
       "      <td>NaN<\/td>\n",
       "      <td>lovely<\/td>\n",
       "      <td>12.56<\/td>\n",
       "      <td>568926409<\/td>\n",
       "      <td>0e45dae2-2e7a-4919-9ec2-cbecd4354a02<\/td>\n",
       "      <td>0.0<\/td>\n",
       "      <td>NaN<\/td>\n",
       "      <td>True<\/td>\n",
       "      <td>1<\/td>\n",
       "      <td>1<\/td>\n",
       "    <\/tr>\n",
       "    <tr>\n",
       "      <th>1048462<\/th>\n",
       "      <td>2019-11-08 11:16:53<\/td>\n",
       "      <td>view<\/td>\n",
       "      <td>5876382<\/td>\n",
       "      <td>1487580008246410000<\/td>\n",
       "      <td>NaN<\/td>\n",
       "      <td>NaN<\/td>\n",
       "      <td>23.81<\/td>\n",
       "      <td>568926576<\/td>\n",
       "      <td>de462037-13f3-4217-9b8e-408e1ba014d9<\/td>\n",
       "      <td>0.0<\/td>\n",
       "      <td>NaN<\/td>\n",
       "      <td>True<\/td>\n",
       "      <td>1<\/td>\n",
       "      <td>1<\/td>\n",
       "    <\/tr>\n",
       "    <tr>\n",
       "      <th>1048552<\/th>\n",
       "      <td>2019-11-08 11:17:21<\/td>\n",
       "      <td>view<\/td>\n",
       "      <td>5752939<\/td>\n",
       "      <td>1487580013069860000<\/td>\n",
       "      <td>NaN<\/td>\n",
       "      <td>italwax<\/td>\n",
       "      <td>19.84<\/td>\n",
       "      <td>568926759<\/td>\n",
       "      <td>b1298c52-9c29-433a-af8b-4f4136aaa5bb<\/td>\n",
       "      <td>0.0<\/td>\n",
       "      <td>NaN<\/td>\n",
       "      <td>True<\/td>\n",
       "      <td>1<\/td>\n",
       "      <td>1<\/td>\n",
       "    <\/tr>\n",
       "  <\/tbody>\n",
       "<\/table>\n",
       "<p>1048575 rows × 14 columns<\/p>\n",
       "<\/div>"
      ]
     },
     "metadata":{
      
     },
     "output_type":"display_data"
    }
   ],
   "metadata":{
    "datalore":{
     "node_id":"fJo1iXDos8WtBYDMzInpTM",
     "type":"CODE",
     "hide_input_from_viewers":false,
     "hide_output_from_viewers":false,
     "report_properties":{
      "rowId":"mBVUBLrwWNb27mcdZSaNwd",
      "relativeY":0
     }
    }
   }
  },
  {
   "cell_type":"markdown",
   "source":[
    "# 4"
   ],
   "attachments":{
    
   },
   "metadata":{
    "datalore":{
     "node_id":"uK8HmU7IpDg6zlVpZL8PBh",
     "type":"MD",
     "hide_input_from_viewers":false,
     "hide_output_from_viewers":false,
     "report_properties":{
      "rowId":"whAxBO5vivjd2oVBcqTUHy",
      "relativeY":0
     }
    }
   }
  },
  {
   "cell_type":"code",
   "source":[
    "import re\n",
    "\n",
    "def replace_value(value):\n",
    "  \n",
    "    return (re.findall('\\d+\\.?\\d*', str(value)))\n",
    "    "
   ],
   "execution_count":13,
   "outputs":[
    
   ],
   "metadata":{
    "datalore":{
     "node_id":"eNGIT8cxuzpsEUzshxn8Aa",
     "type":"CODE",
     "hide_input_from_viewers":false,
     "hide_output_from_viewers":false,
     "report_properties":{
      "rowId":"N887FzQhNFZp6fDEkH4GZx",
      "relativeY":0
     }
    }
   }
  },
  {
   "cell_type":"markdown",
   "source":[
    "Note that the regular expression pattern used in this function (\"\\d+.?\\d*\") matches both integers and floating-point numbers, as well as numbers that start with a decimal point (e.g., \".5\")."
   ],
   "attachments":{
    
   },
   "metadata":{
    "datalore":{
     "node_id":"S2RZgz3FW5FI0m0pB9WFow",
     "type":"MD",
     "hide_input_from_viewers":true,
     "hide_output_from_viewers":true
    }
   }
  },
  {
   "cell_type":"code",
   "source":[
    "list_c= [\"44 sale\", \"net 5.44\"]\n",
    "for i in list_c:\n",
    "    print(replace_value(i))"
   ],
   "execution_count":14,
   "outputs":[
    {
     "name":"stdout",
     "text":[
      "['44']\n",
      "['5.44']\n"
     ],
     "output_type":"stream"
    }
   ],
   "metadata":{
    "datalore":{
     "node_id":"2Lw7RoBQBovI2w4rGaj1Td",
     "type":"CODE",
     "hide_input_from_viewers":false,
     "hide_output_from_viewers":false,
     "report_properties":{
      "rowId":"G725A8JZGPStwcTHEktDq1",
      "relativeY":0
     }
    }
   }
  },
  {
   "cell_type":"code",
   "source":[
    "data_copy['price'] = data_copy['price'].apply(replace_value)"
   ],
   "execution_count":15,
   "outputs":[
    
   ],
   "metadata":{
    "datalore":{
     "node_id":"scJ1xT4PTOV4KPeissURv1",
     "type":"CODE",
     "hide_input_from_viewers":false,
     "hide_output_from_viewers":false,
     "report_properties":{
      "rowId":"xDWGlaLshCiRamLNLh8iAc",
      "relativeY":0
     }
    }
   }
  },
  {
   "cell_type":"markdown",
   "source":[
    "Another option without using apply which slightly affects running times\n",
    "\n",
    "`data_copy['price'].replace('[^\\d.]+', '', regex=True).astype(float)\n",
    "`"
   ],
   "attachments":{
    
   },
   "metadata":{
    "datalore":{
     "node_id":"JhrAwRiAPdxg6HY3GdCVeg",
     "type":"MD",
     "hide_input_from_viewers":true,
     "hide_output_from_viewers":true
    }
   }
  },
  {
   "cell_type":"markdown",
   "source":[
    "# 5"
   ],
   "attachments":{
    
   },
   "metadata":{
    "datalore":{
     "node_id":"jzhmtW9im4MHRFxE7nAhXv",
     "type":"MD",
     "hide_input_from_viewers":false,
     "hide_output_from_viewers":false,
     "report_properties":{
      "rowId":"iHrUYfJwOMw3BmY4qt4eAl",
      "relativeY":0
     }
    }
   }
  },
  {
   "cell_type":"code",
   "source":[
    "event_type_count= data_copy.groupby(\"event_type\")[\"user_id\"].count()\n",
    "\n",
    "#create bar plot by group\n",
    "event_type_count.plot(kind='bar')"
   ],
   "execution_count":16,
   "outputs":[
    {
     "data":{
      "text\/plain":[
       "<AxesSubplot:xlabel='event_type'>"
      ]
     },
     "metadata":{
      
     },
     "output_type":"display_data"
    },
    {
     "data":{
      "image\/png":"[encoded data removed]"
     },
     "metadata":{
      "image\/png":{
       
      }
     },
     "output_type":"display_data"
    }
   ],
   "metadata":{
    "datalore":{
     "node_id":"JRtBjvnqgIRlDS4fSVzwGY",
     "type":"CODE",
     "hide_input_from_viewers":false,
     "hide_output_from_viewers":false,
     "report_properties":{
      "rowId":"4x1z7BFecz9DAg02QxOzOk",
      "relativeY":0
     }
    }
   }
  },
  {
   "cell_type":"markdown",
   "source":[
    "## A little bit boring, let's add something a little more exciting"
   ],
   "attachments":{
    
   },
   "metadata":{
    "datalore":{
     "node_id":"0Itgnh3geCBv0Gb1s32Po1",
     "type":"MD",
     "hide_input_from_viewers":true,
     "hide_output_from_viewers":true
    }
   }
  },
  {
   "cell_type":"code",
   "source":[
    "import matplotlib.pyplot as plt\n",
    "import squarify\n",
    "import matplotlib\n",
    "event_type_count.reset_index()\n",
    "\n",
    "df=event_type_count.reset_index()\n",
    "plt.figure(figsize=(12,7))\n",
    "squarify.plot(sizes=df['user_id'], label=df['event_type'], value=df['user_id'],\n",
    "              color=[matplotlib.cm.Set2(i) for i in range(7)],\n",
    "              text_kwargs={'fontsize': 17})\n",
    "plt.title('Types of events in a proportional view', fontsize=27)\n",
    "plt.axis('off')\n",
    "plt.show()"
   ],
   "execution_count":17,
   "outputs":[
    {
     "data":{
      "image\/png":"[encoded data removed]"
     },
     "metadata":{
      "image\/png":{
       
      }
     },
     "output_type":"display_data"
    }
   ],
   "metadata":{
    "datalore":{
     "node_id":"jadMhPeEhOgjBUi7tU1xo9",
     "type":"CODE",
     "hide_input_from_viewers":true,
     "hide_output_from_viewers":true
    }
   }
  },
  {
   "cell_type":"markdown",
   "source":[
    "## Much better :)"
   ],
   "attachments":{
    
   },
   "metadata":{
    "datalore":{
     "node_id":"WrXJ3WJJzRLw0e74w4Gs80",
     "type":"MD",
     "hide_input_from_viewers":true,
     "hide_output_from_viewers":true
    }
   }
  },
  {
   "cell_type":"markdown",
   "source":[
    "# 6"
   ],
   "attachments":{
    
   },
   "metadata":{
    "datalore":{
     "node_id":"BtYUI9NvNbZ6yLf2wnptre",
     "type":"MD",
     "hide_input_from_viewers":false,
     "hide_output_from_viewers":false,
     "report_properties":{
      "rowId":"wkc3UpfX77kv6xlnCqXpxZ",
      "relativeY":0
     }
    }
   }
  },
  {
   "cell_type":"markdown",
   "source":[
    "## We will perform slightly different calculations this time, it is better to merge the data in an easier way later"
   ],
   "attachments":{
    
   },
   "metadata":{
    "datalore":{
     "node_id":"gYLp45SasWNmKxCBqY0eLU",
     "type":"MD",
     "hide_input_from_viewers":true,
     "hide_output_from_viewers":true
    }
   }
  },
  {
   "cell_type":"code",
   "source":[
    "# Group the data by user_id and user_session\n",
    "grouped_data = data_copy.groupby(['user_id', 'user_session'])\n",
    "\n",
    "# Calculate the number of events per session\n",
    "events_per_session = grouped_data.size()\n",
    "\n",
    "# Calculate the duration of each session\n",
    "session_durations = grouped_data['event_time'].agg(lambda x: (x.max() - x.min()).total_seconds())\n",
    "\n",
    "# Get a list of viewed, added to cart, and purchased products per session\n",
    "viewed_per_session = grouped_data.apply(lambda x: x.loc[x['event_type'] == 'view', 'product_id'].tolist())\n",
    "added_to_cart_per_session = grouped_data.apply(lambda x: x.loc[x['event_type'] == 'cart', 'product_id'].tolist())\n",
    "purchased_per_session = grouped_data.apply(lambda x: x.loc[x['event_type'] == 'purchase', 'product_id'].tolist())\n",
    "\n",
    "# Create the session_data dataframe\n",
    "session_data = pd.DataFrame({\n",
    "    'user_id': events_per_session.index.get_level_values('user_id'),\n",
    "    'user_session': events_per_session.index.get_level_values('user_session'),\n",
    "    'total_events': events_per_session.values,\n",
    "    'duration': session_durations.values,\n",
    "    'list_of_viewed': viewed_per_session.values,\n",
    "    'list_of_added_to_cart': added_to_cart_per_session.values,\n",
    "    'list_of_purchased': purchased_per_session.values\n",
    "})"
   ],
   "execution_count":18,
   "outputs":[
    
   ],
   "metadata":{
    "datalore":{
     "node_id":"yy6WTZlmLecFnCsyNAPyCe",
     "type":"CODE",
     "hide_input_from_viewers":false,
     "hide_output_from_viewers":false,
     "report_properties":{
      "rowId":"mp2l4fnSSGGDjKr25L26L5",
      "relativeY":0
     }
    }
   }
  },
  {
   "cell_type":"code",
   "source":[
    "session_data"
   ],
   "execution_count":19,
   "outputs":[
    {
     "data":{
      "text\/html":[
       "<div>\n",
       "<style scoped>\n",
       "    .dataframe tbody tr th:only-of-type {\n",
       "        vertical-align: middle;\n",
       "    }\n",
       "\n",
       "    .dataframe tbody tr th {\n",
       "        vertical-align: top;\n",
       "    }\n",
       "\n",
       "    .dataframe thead th {\n",
       "        text-align: right;\n",
       "    }\n",
       "<\/style>\n",
       "<table border=\"1\" class=\"dataframe\">\n",
       "  <thead>\n",
       "    <tr style=\"text-align: right;\">\n",
       "      <th><\/th>\n",
       "      <th>user_id<\/th>\n",
       "      <th>user_session<\/th>\n",
       "      <th>total_events<\/th>\n",
       "      <th>duration<\/th>\n",
       "      <th>list_of_viewed<\/th>\n",
       "      <th>list_of_added_to_cart<\/th>\n",
       "      <th>list_of_purchased<\/th>\n",
       "    <\/tr>\n",
       "  <\/thead>\n",
       "  <tbody>\n",
       "    <tr>\n",
       "      <th>0<\/th>\n",
       "      <td>1120748<\/td>\n",
       "      <td>d0484d94-7ac1-44e8-a310-2360da11ad9d<\/td>\n",
       "      <td>1<\/td>\n",
       "      <td>0.0<\/td>\n",
       "      <td>[5240]<\/td>\n",
       "      <td>[]<\/td>\n",
       "      <td>[]<\/td>\n",
       "    <\/tr>\n",
       "    <tr>\n",
       "      <th>1<\/th>\n",
       "      <td>10079204<\/td>\n",
       "      <td>f873d16b-4efa-4e92-81be-92948aef2ff5<\/td>\n",
       "      <td>4<\/td>\n",
       "      <td>176.0<\/td>\n",
       "      <td>[]<\/td>\n",
       "      <td>[5614842, 5766379]<\/td>\n",
       "      <td>[5766379, 5614842]<\/td>\n",
       "    <\/tr>\n",
       "    <tr>\n",
       "      <th>2<\/th>\n",
       "      <td>10521214<\/td>\n",
       "      <td>25d2d492-d688-4baa-adf1-7296dbdd663e<\/td>\n",
       "      <td>3<\/td>\n",
       "      <td>133.0<\/td>\n",
       "      <td>[5713294, 5713295, 5713294]<\/td>\n",
       "      <td>[]<\/td>\n",
       "      <td>[]<\/td>\n",
       "    <\/tr>\n",
       "    <tr>\n",
       "      <th>3<\/th>\n",
       "      <td>11274156<\/td>\n",
       "      <td>0c778a88-4700-4e8b-becb-3371ec28ea79<\/td>\n",
       "      <td>2<\/td>\n",
       "      <td>20.0<\/td>\n",
       "      <td>[5899834]<\/td>\n",
       "      <td>[5809910]<\/td>\n",
       "      <td>[]<\/td>\n",
       "    <\/tr>\n",
       "    <tr>\n",
       "      <th>4<\/th>\n",
       "      <td>11274156<\/td>\n",
       "      <td>7bcf0afd-33ab-49ca-bd55-9c11a817b3d2<\/td>\n",
       "      <td>1<\/td>\n",
       "      <td>0.0<\/td>\n",
       "      <td>[5649179]<\/td>\n",
       "      <td>[]<\/td>\n",
       "      <td>[]<\/td>\n",
       "    <\/tr>\n",
       "    <tr>\n",
       "      <th>...<\/th>\n",
       "      <td>...<\/td>\n",
       "      <td>...<\/td>\n",
       "      <td>...<\/td>\n",
       "      <td>...<\/td>\n",
       "      <td>...<\/td>\n",
       "      <td>...<\/td>\n",
       "      <td>...<\/td>\n",
       "    <\/tr>\n",
       "    <tr>\n",
       "      <th>210578<\/th>\n",
       "      <td>568926337<\/td>\n",
       "      <td>1325e7ce-c706-4253-99ad-1eaf9cfe70ee<\/td>\n",
       "      <td>1<\/td>\n",
       "      <td>0.0<\/td>\n",
       "      <td>[5861591]<\/td>\n",
       "      <td>[]<\/td>\n",
       "      <td>[]<\/td>\n",
       "    <\/tr>\n",
       "    <tr>\n",
       "      <th>210579<\/th>\n",
       "      <td>568926338<\/td>\n",
       "      <td>09994a71-7ac0-415a-9f49-d8df982ac9dd<\/td>\n",
       "      <td>1<\/td>\n",
       "      <td>0.0<\/td>\n",
       "      <td>[5799891]<\/td>\n",
       "      <td>[]<\/td>\n",
       "      <td>[]<\/td>\n",
       "    <\/tr>\n",
       "    <tr>\n",
       "      <th>210580<\/th>\n",
       "      <td>568926409<\/td>\n",
       "      <td>0e45dae2-2e7a-4919-9ec2-cbecd4354a02<\/td>\n",
       "      <td>1<\/td>\n",
       "      <td>0.0<\/td>\n",
       "      <td>[5881598]<\/td>\n",
       "      <td>[]<\/td>\n",
       "      <td>[]<\/td>\n",
       "    <\/tr>\n",
       "    <tr>\n",
       "      <th>210581<\/th>\n",
       "      <td>568926576<\/td>\n",
       "      <td>de462037-13f3-4217-9b8e-408e1ba014d9<\/td>\n",
       "      <td>1<\/td>\n",
       "      <td>0.0<\/td>\n",
       "      <td>[5876382]<\/td>\n",
       "      <td>[]<\/td>\n",
       "      <td>[]<\/td>\n",
       "    <\/tr>\n",
       "    <tr>\n",
       "      <th>210582<\/th>\n",
       "      <td>568926759<\/td>\n",
       "      <td>b1298c52-9c29-433a-af8b-4f4136aaa5bb<\/td>\n",
       "      <td>1<\/td>\n",
       "      <td>0.0<\/td>\n",
       "      <td>[5752939]<\/td>\n",
       "      <td>[]<\/td>\n",
       "      <td>[]<\/td>\n",
       "    <\/tr>\n",
       "  <\/tbody>\n",
       "<\/table>\n",
       "<p>210583 rows × 7 columns<\/p>\n",
       "<\/div>"
      ]
     },
     "metadata":{
      
     },
     "output_type":"display_data"
    }
   ],
   "metadata":{
    "datalore":{
     "node_id":"QxTlramvu7sm0ChJGMr0cp",
     "type":"CODE",
     "hide_input_from_viewers":false,
     "hide_output_from_viewers":false,
     "report_properties":{
      "rowId":"XOAVKi4AaOl539SINmINln",
      "relativeY":0
     }
    }
   }
  },
  {
   "cell_type":"markdown",
   "source":[
    "### Merging the relevant columns from the original data with the data sessions.\n",
    "We will perform a \"**left** join\" because we want to focus on data sessions"
   ],
   "attachments":{
    
   },
   "metadata":{
    "datalore":{
     "node_id":"vgbRwW5RKPVJ2XLeM6TrqR",
     "type":"MD",
     "hide_input_from_viewers":true,
     "hide_output_from_viewers":true
    }
   }
  },
  {
   "cell_type":"code",
   "source":[
    "# merge session_data with data_copy\n",
    "merged_data = pd.merge(session_data, data_copy[[\"user_id\",'user_session', 'funnel_number', 'index_in_funnel']], on=[\"user_id\",'user_session'], how='left')\n",
    "\n",
    "# select columns\n",
    "finalsession_data = merged_data[[\"user_id\",'user_session', 'total_events', 'duration', 'list_of_viewed', 'list_of_added_to_cart', 'list_of_purchased', 'funnel_number', 'index_in_funnel']]"
   ],
   "execution_count":20,
   "outputs":[
    
   ],
   "metadata":{
    "datalore":{
     "node_id":"SNpH1nEAoyrs6YKLJ6HQGb",
     "type":"CODE",
     "hide_input_from_viewers":false,
     "hide_output_from_viewers":false,
     "report_properties":{
      "rowId":"EtxRZUZ3ORLqbBZfNen3ZQ",
      "relativeY":0
     }
    }
   }
  },
  {
   "cell_type":"code",
   "source":[
    "finalsession_data"
   ],
   "execution_count":21,
   "outputs":[
    {
     "data":{
      "text\/html":[
       "<div>\n",
       "<style scoped>\n",
       "    .dataframe tbody tr th:only-of-type {\n",
       "        vertical-align: middle;\n",
       "    }\n",
       "\n",
       "    .dataframe tbody tr th {\n",
       "        vertical-align: top;\n",
       "    }\n",
       "\n",
       "    .dataframe thead th {\n",
       "        text-align: right;\n",
       "    }\n",
       "<\/style>\n",
       "<table border=\"1\" class=\"dataframe\">\n",
       "  <thead>\n",
       "    <tr style=\"text-align: right;\">\n",
       "      <th><\/th>\n",
       "      <th>user_id<\/th>\n",
       "      <th>user_session<\/th>\n",
       "      <th>total_events<\/th>\n",
       "      <th>duration<\/th>\n",
       "      <th>list_of_viewed<\/th>\n",
       "      <th>list_of_added_to_cart<\/th>\n",
       "      <th>list_of_purchased<\/th>\n",
       "      <th>funnel_number<\/th>\n",
       "      <th>index_in_funnel<\/th>\n",
       "    <\/tr>\n",
       "  <\/thead>\n",
       "  <tbody>\n",
       "    <tr>\n",
       "      <th>0<\/th>\n",
       "      <td>1120748<\/td>\n",
       "      <td>d0484d94-7ac1-44e8-a310-2360da11ad9d<\/td>\n",
       "      <td>1<\/td>\n",
       "      <td>0.0<\/td>\n",
       "      <td>[5240]<\/td>\n",
       "      <td>[]<\/td>\n",
       "      <td>[]<\/td>\n",
       "      <td>1<\/td>\n",
       "      <td>1<\/td>\n",
       "    <\/tr>\n",
       "    <tr>\n",
       "      <th>1<\/th>\n",
       "      <td>10079204<\/td>\n",
       "      <td>f873d16b-4efa-4e92-81be-92948aef2ff5<\/td>\n",
       "      <td>4<\/td>\n",
       "      <td>176.0<\/td>\n",
       "      <td>[]<\/td>\n",
       "      <td>[5614842, 5766379]<\/td>\n",
       "      <td>[5766379, 5614842]<\/td>\n",
       "      <td>1<\/td>\n",
       "      <td>1<\/td>\n",
       "    <\/tr>\n",
       "    <tr>\n",
       "      <th>2<\/th>\n",
       "      <td>10079204<\/td>\n",
       "      <td>f873d16b-4efa-4e92-81be-92948aef2ff5<\/td>\n",
       "      <td>4<\/td>\n",
       "      <td>176.0<\/td>\n",
       "      <td>[]<\/td>\n",
       "      <td>[5614842, 5766379]<\/td>\n",
       "      <td>[5766379, 5614842]<\/td>\n",
       "      <td>1<\/td>\n",
       "      <td>1<\/td>\n",
       "    <\/tr>\n",
       "    <tr>\n",
       "      <th>3<\/th>\n",
       "      <td>10079204<\/td>\n",
       "      <td>f873d16b-4efa-4e92-81be-92948aef2ff5<\/td>\n",
       "      <td>4<\/td>\n",
       "      <td>176.0<\/td>\n",
       "      <td>[]<\/td>\n",
       "      <td>[5614842, 5766379]<\/td>\n",
       "      <td>[5766379, 5614842]<\/td>\n",
       "      <td>1<\/td>\n",
       "      <td>1<\/td>\n",
       "    <\/tr>\n",
       "    <tr>\n",
       "      <th>4<\/th>\n",
       "      <td>10079204<\/td>\n",
       "      <td>f873d16b-4efa-4e92-81be-92948aef2ff5<\/td>\n",
       "      <td>4<\/td>\n",
       "      <td>176.0<\/td>\n",
       "      <td>[]<\/td>\n",
       "      <td>[5614842, 5766379]<\/td>\n",
       "      <td>[5766379, 5614842]<\/td>\n",
       "      <td>1<\/td>\n",
       "      <td>1<\/td>\n",
       "    <\/tr>\n",
       "    <tr>\n",
       "      <th>...<\/th>\n",
       "      <td>...<\/td>\n",
       "      <td>...<\/td>\n",
       "      <td>...<\/td>\n",
       "      <td>...<\/td>\n",
       "      <td>...<\/td>\n",
       "      <td>...<\/td>\n",
       "      <td>...<\/td>\n",
       "      <td>...<\/td>\n",
       "      <td>...<\/td>\n",
       "    <\/tr>\n",
       "    <tr>\n",
       "      <th>1048352<\/th>\n",
       "      <td>568926337<\/td>\n",
       "      <td>1325e7ce-c706-4253-99ad-1eaf9cfe70ee<\/td>\n",
       "      <td>1<\/td>\n",
       "      <td>0.0<\/td>\n",
       "      <td>[5861591]<\/td>\n",
       "      <td>[]<\/td>\n",
       "      <td>[]<\/td>\n",
       "      <td>1<\/td>\n",
       "      <td>1<\/td>\n",
       "    <\/tr>\n",
       "    <tr>\n",
       "      <th>1048353<\/th>\n",
       "      <td>568926338<\/td>\n",
       "      <td>09994a71-7ac0-415a-9f49-d8df982ac9dd<\/td>\n",
       "      <td>1<\/td>\n",
       "      <td>0.0<\/td>\n",
       "      <td>[5799891]<\/td>\n",
       "      <td>[]<\/td>\n",
       "      <td>[]<\/td>\n",
       "      <td>1<\/td>\n",
       "      <td>1<\/td>\n",
       "    <\/tr>\n",
       "    <tr>\n",
       "      <th>1048354<\/th>\n",
       "      <td>568926409<\/td>\n",
       "      <td>0e45dae2-2e7a-4919-9ec2-cbecd4354a02<\/td>\n",
       "      <td>1<\/td>\n",
       "      <td>0.0<\/td>\n",
       "      <td>[5881598]<\/td>\n",
       "      <td>[]<\/td>\n",
       "      <td>[]<\/td>\n",
       "      <td>1<\/td>\n",
       "      <td>1<\/td>\n",
       "    <\/tr>\n",
       "    <tr>\n",
       "      <th>1048355<\/th>\n",
       "      <td>568926576<\/td>\n",
       "      <td>de462037-13f3-4217-9b8e-408e1ba014d9<\/td>\n",
       "      <td>1<\/td>\n",
       "      <td>0.0<\/td>\n",
       "      <td>[5876382]<\/td>\n",
       "      <td>[]<\/td>\n",
       "      <td>[]<\/td>\n",
       "      <td>1<\/td>\n",
       "      <td>1<\/td>\n",
       "    <\/tr>\n",
       "    <tr>\n",
       "      <th>1048356<\/th>\n",
       "      <td>568926759<\/td>\n",
       "      <td>b1298c52-9c29-433a-af8b-4f4136aaa5bb<\/td>\n",
       "      <td>1<\/td>\n",
       "      <td>0.0<\/td>\n",
       "      <td>[5752939]<\/td>\n",
       "      <td>[]<\/td>\n",
       "      <td>[]<\/td>\n",
       "      <td>1<\/td>\n",
       "      <td>1<\/td>\n",
       "    <\/tr>\n",
       "  <\/tbody>\n",
       "<\/table>\n",
       "<p>1048357 rows × 9 columns<\/p>\n",
       "<\/div>"
      ]
     },
     "metadata":{
      
     },
     "output_type":"display_data"
    }
   ],
   "metadata":{
    "datalore":{
     "node_id":"bEVy0ggyaKRJ5fkZLxwWpX",
     "type":"CODE",
     "hide_input_from_viewers":false,
     "hide_output_from_viewers":false,
     "report_properties":{
      "rowId":"5XzPstU1aeitLaWagU2NKU",
      "relativeY":0
     }
    }
   }
  },
  {
   "cell_type":"code",
   "source":[
    
   ],
   "execution_count":null,
   "outputs":[
    
   ],
   "metadata":{
    "datalore":{
     "node_id":"6AZP7L320EcjekfXWWEfsa",
     "type":"CODE",
     "hide_input_from_viewers":true,
     "hide_output_from_viewers":true
    }
   }
  }
 ],
 "metadata":{
  "kernelspec":{
   "display_name":"Python",
   "language":"python",
   "name":"python"
  },
  "datalore":{
   "computation_mode":"JUPYTER",
   "package_manager":"pip",
   "base_environment":"default",
   "packages":[
    {
     "name":"waterfallcharts",
     "version":"3.8",
     "source":"PIP"
    },
    {
     "name":"squarify",
     "source":"PIP"
    }
   ],
   "report_row_ids":[
    "g7QWNVvYrHXJDVZ70ZUOD7",
    "d9Nbv76L3IxEcGzWKiTiOG",
    "DzGPgicSEJFWalFra49OFP",
    "MaIUcMToLGVv60q6QxTPQo",
    "T6avWQFedQNOzemt1nmdTe",
    "0l7zwcgaQ1M8zzVCd6fbLm",
    "yvc70yXwrxfkcRCszUoOJY",
    "QutViq9x8XrdDHixV6RYlY",
    "H8sTcxGJmPS4WMUnUMq5vH",
    "EMhinQv888IZeoFvfsthX2",
    "e4nkrNcR6fgDpY4d1ui1KH",
    "8jr2PsXNDtXYvSMZp3hizu",
    "mBVUBLrwWNb27mcdZSaNwd",
    "whAxBO5vivjd2oVBcqTUHy",
    "N887FzQhNFZp6fDEkH4GZx",
    "G725A8JZGPStwcTHEktDq1",
    "CGbsf7yfGfLz4IU74koM6l",
    "xDWGlaLshCiRamLNLh8iAc",
    "iHrUYfJwOMw3BmY4qt4eAl",
    "4x1z7BFecz9DAg02QxOzOk",
    "wkc3UpfX77kv6xlnCqXpxZ",
    "mp2l4fnSSGGDjKr25L26L5",
    "XOAVKi4AaOl539SINmINln",
    "EtxRZUZ3ORLqbBZfNen3ZQ",
    "5XzPstU1aeitLaWagU2NKU"
   ],
   "version":3
  }
 },
 "nbformat":4,
 "nbformat_minor":4
}